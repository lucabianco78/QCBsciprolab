{
 "cells": [
  {
   "cell_type": "markdown",
   "metadata": {
    "nbsphinx": "hidden"
   },
   "source": [
    "### NOTE FOR LUCA\n",
    "\n",
    "**Remember to set/remove metadata as:**\n",
    "{\n",
    "  \"nbsphinx\": \"hidden\"\n",
    "}\n",
    "\n",
    "to enable/disable solutions view"
   ]
  },
  {
   "cell_type": "markdown",
   "metadata": {},
   "source": [
    "\n",
    "# Practical 13\n",
    "\n",
    "In this practical we will continue with object oriented programming and will focus on code testing in Python. Finally, we will introduce regular expressions.\n",
    "\n",
    "## Slides\n",
    "\n",
    "The slides of the introduction can be found here: [Intro](docs/Practical13.pdf)\n",
    "\n",
    "## Testing your code \n",
    "\n",
    "Testing the code is quite an important step to make sure that the code is predictable and although some bugs can always slip through, **testing is the process of making the code as predictable as possible**.\n",
    "\n",
    "Two types of testing exist: the **white-box** testing methodology looks into every detail of the implemented code to inspect its correctness, **black-box** testing does not look at the details of how the code is implemented, but it just focus on the correctness of the output produced by the code.\n",
    "\n",
    "Testing is quite a complex and articulated topic, here we will just scratch the tip of the iceberg (there are many books on the topic if you are interested).\n",
    "\n",
    "A **test** is a piece of code written with the sole purpose of checking the correctness of another piece of code. \n",
    "\n",
    "Testing requires three successive moments: first of all we need to **set up** (or prepare) the test setting up connections/interfaces to test data, the second step is to **execute** the piece of code we are aiming to test using the interfaces devised at the previous step, and the third is the **verification** of the results to make sure they look as they were expected to.\n",
    "\n",
    "### Doctest \n",
    "\n",
    "A very simple way to specifying tests for the code is by using an embedded module called **doctest**. It will basically search for pieces of code in your python file that look like **interactive python sessions** (that are lines starting with ```>>> ```) and will execute them to check if they run giving the result specified in the next line.\n",
    "\n",
    "<div class=\"alert alert-warning\">\n",
    "\n",
    "**Important:** \n",
    "\n",
    "Note the space after \">>> \". That is where the test starts. An example:\n",
    "```\n",
    "This is a function that returns three values in a list...\n",
    ">>> fun(x)\n",
    "[x, y, z]\n",
    "```\n",
    "</div>\n",
    "\n",
    "**Example:**\n",
    "Let's define some doctest tests for the simple function computing the first N prime numbers."
   ]
  },
  {
   "cell_type": "code",
   "execution_count": 34,
   "metadata": {},
   "outputs": [
    {
     "name": "stdout",
     "output_type": "stream",
     "text": [
      "[2, 3, 5, 7, 11, 13, 17, 19, 23, 29, 31, 37, 41, 43, 47, 53, 59, 61, 67, 71]\n"
     ]
    }
   ],
   "source": [
    "%reset -f \n",
    "\n",
    "def getFirstNprimes(N):\n",
    "    '''\n",
    "    This function should output the first N prime numbers.\n",
    "    >>> getFirstNprimes(1)\n",
    "    [2]\n",
    "    >>> getFirstNprimes(2)\n",
    "    [2, 3]\n",
    "    >>> getFirstNprimes(10)\n",
    "    [2, 3, 5, 7, 11, 13, 17, 19, 23, 29]\n",
    "    '''\n",
    "    if N == 0:\n",
    "        return []\n",
    "    res = [2]\n",
    "    current = 3\n",
    "    while len(res) < N:\n",
    "        if len([x for x in res if current % x == 0]) == 0:\n",
    "            res.append(current)\n",
    "        current += 1\n",
    "    #uncomment next line to introduce a bug\n",
    "    #res.append(1)\n",
    "    return res        \n",
    "\n",
    "if __name__ == \"__main__\":\n",
    "    import doctest\n",
    "    doctest.testmod()\n",
    "    print(getFirstNprimes(20))"
   ]
  },
  {
   "cell_type": "markdown",
   "metadata": {},
   "source": [
    "The line ```if __name__ == \"__main__\":``` is used to specify if the code is executed as a script (i.e. it is not invoked as an imported module somewhere else in another piece of code).\n",
    "\n",
    "Executing the code as it is will not give any particular error as the tests we set-up passed correctly. But if we uncomment the ```res.append(1)``` the tests will fail and we produce the following testing output, which reports the three failed tests, the expected values and the obtained values: \n",
    "\n",
    "![](img/pract13/doctest.png)\n",
    "\n",
    "Another way of testing the code is through unit tests, we will see this later on. \n",
    "\n",
    "### Raising exceptions and using assertions\n",
    "\n",
    "One thing we can do is to raise exceptions whenever some pre-conditions are not met in order to insure that these do not lead to erroneous behaviours. This can be done with ```raise Exception(\"exception text\")```. More info on raising exceptions are [here](https://docs.python.org/3/tutorial/errors.html#raising-exceptions). \n",
    "\n",
    "**Example**: \n",
    "Consider the following ```MyIntPair``` class that works with integers. If we want to make sure it only contains integers we can add a ```raise Exception``` in case it is not an integer. "
   ]
  },
  {
   "cell_type": "code",
   "execution_count": 37,
   "metadata": {},
   "outputs": [
    {
     "name": "stdout",
     "output_type": "stream",
     "text": [
      "(8, 16)\n"
     ]
    },
    {
     "ename": "Exception",
     "evalue": "y two is not integer",
     "output_type": "error",
     "traceback": [
      "\u001b[0;31m---------------------------------------------------------------------------\u001b[0m",
      "\u001b[0;31mException\u001b[0m                                 Traceback (most recent call last)",
      "\u001b[0;32m<ipython-input-37-09493790293a>\u001b[0m in \u001b[0;36m<module>\u001b[0;34m()\u001b[0m\n\u001b[1;32m     14\u001b[0m \u001b[0mB\u001b[0m \u001b[0;34m=\u001b[0m \u001b[0mMyIntPair\u001b[0m\u001b[0;34m(\u001b[0m\u001b[0;36m3\u001b[0m\u001b[0;34m,\u001b[0m\u001b[0;36m6\u001b[0m\u001b[0;34m)\u001b[0m\u001b[0;34m\u001b[0m\u001b[0m\n\u001b[1;32m     15\u001b[0m \u001b[0mprint\u001b[0m\u001b[0;34m(\u001b[0m\u001b[0mA\u001b[0m\u001b[0;34m+\u001b[0m\u001b[0mB\u001b[0m\u001b[0;34m)\u001b[0m\u001b[0;34m\u001b[0m\u001b[0m\n\u001b[0;32m---> 16\u001b[0;31m \u001b[0mC\u001b[0m \u001b[0;34m=\u001b[0m \u001b[0mMyIntPair\u001b[0m\u001b[0;34m(\u001b[0m\u001b[0;36m1\u001b[0m\u001b[0;34m,\u001b[0m \u001b[0;34m\"two\"\u001b[0m\u001b[0;34m)\u001b[0m\u001b[0;34m\u001b[0m\u001b[0m\n\u001b[0m",
      "\u001b[0;32m<ipython-input-37-09493790293a>\u001b[0m in \u001b[0;36m__init__\u001b[0;34m(self, x, y)\u001b[0m\n\u001b[1;32m      4\u001b[0m             \u001b[0;32mraise\u001b[0m \u001b[0mException\u001b[0m\u001b[0;34m(\u001b[0m\u001b[0;34m\"x {} is not integer\"\u001b[0m\u001b[0;34m.\u001b[0m\u001b[0mformat\u001b[0m\u001b[0;34m(\u001b[0m\u001b[0mx\u001b[0m\u001b[0;34m)\u001b[0m\u001b[0;34m)\u001b[0m\u001b[0;34m\u001b[0m\u001b[0m\n\u001b[1;32m      5\u001b[0m         \u001b[0;32mif\u001b[0m \u001b[0;32mnot\u001b[0m \u001b[0mtype\u001b[0m\u001b[0;34m(\u001b[0m\u001b[0my\u001b[0m\u001b[0;34m)\u001b[0m \u001b[0;34m==\u001b[0m \u001b[0mint\u001b[0m\u001b[0;34m:\u001b[0m\u001b[0;34m\u001b[0m\u001b[0m\n\u001b[0;32m----> 6\u001b[0;31m             \u001b[0;32mraise\u001b[0m \u001b[0mException\u001b[0m\u001b[0;34m(\u001b[0m\u001b[0;34m\"y {} is not integer\"\u001b[0m\u001b[0;34m.\u001b[0m\u001b[0mformat\u001b[0m\u001b[0;34m(\u001b[0m\u001b[0my\u001b[0m\u001b[0;34m)\u001b[0m\u001b[0;34m)\u001b[0m\u001b[0;34m\u001b[0m\u001b[0m\n\u001b[0m\u001b[1;32m      7\u001b[0m         \u001b[0mself\u001b[0m\u001b[0;34m.\u001b[0m\u001b[0mx\u001b[0m \u001b[0;34m=\u001b[0m \u001b[0mx\u001b[0m\u001b[0;34m\u001b[0m\u001b[0m\n\u001b[1;32m      8\u001b[0m         \u001b[0mself\u001b[0m\u001b[0;34m.\u001b[0m\u001b[0my\u001b[0m \u001b[0;34m=\u001b[0m \u001b[0my\u001b[0m\u001b[0;34m\u001b[0m\u001b[0m\n",
      "\u001b[0;31mException\u001b[0m: y two is not integer"
     ]
    }
   ],
   "source": [
    "class MyIntPair:\n",
    "    def __init__(self, x,y):\n",
    "        if not type(x) == int:\n",
    "            raise Exception(\"x {} is not integer\".format(x))\n",
    "        if not type(y) == int:\n",
    "            raise Exception(\"y {} is not integer\".format(y))\n",
    "        self.x = x\n",
    "        self.y = y\n",
    "        \n",
    "    def __add__(self, other):\n",
    "        return (self.x + other.x, self.y + other.y)\n",
    "    \n",
    "A = MyIntPair(5,10)\n",
    "B = MyIntPair(3,6)\n",
    "print(A + B)\n",
    "C = MyIntPair(1, \"two\")"
   ]
  },
  {
   "cell_type": "markdown",
   "metadata": {},
   "source": [
    "Note that if we try to pass it something other than an integer, the execution will stop. To amend this behaviour we need to intercept the exception and deal with them appropriately. This topic is quite articulated, you can find more info on it [here](https://docs.python.org/3/tutorial/errors.html#handling-exceptions).\n",
    "\n",
    "A simple exception handling can be done by using the ```try - except``` construct that tries to run some statements, being ready to intercept and handle any exception that might occur:"
   ]
  },
  {
   "cell_type": "code",
   "execution_count": 43,
   "metadata": {},
   "outputs": [
    {
     "name": "stdout",
     "output_type": "stream",
     "text": [
      "(8, 16)\n",
      "Whoops something went wrong. Ignore the rest.\n",
      "y two is not integer\n"
     ]
    }
   ],
   "source": [
    "class MyIntPair:\n",
    "    def __init__(self, x,y):\n",
    "        if not type(x) == int:\n",
    "            raise Exception(\"x: {} is not integer\".format(x))\n",
    "        if not type(y) == int:\n",
    "            raise Exception(\"y: {} is not integer\".format(y))\n",
    "        self.x = x\n",
    "        self.y = y\n",
    "        \n",
    "    def __add__(self, other):\n",
    "        return (self.x + other.x, self.y + other.y)\n",
    "    \n",
    "try: \n",
    "    A = MyIntPair(5,10)\n",
    "    B = MyIntPair(3,6)\n",
    "    #Uncomment to see a different error\n",
    "    #print(A/0)\n",
    "    print(A + B)\n",
    "    C = MyIntPair(1, \"two\")\n",
    "    print(A + C)\n",
    "\n",
    "except Exception as e:\n",
    "    print(\"Whoops something went wrong. Ignore the rest.\")\n",
    "    print(str(e))\n",
    "    "
   ]
  },
  {
   "cell_type": "markdown",
   "metadata": {},
   "source": [
    "Similarly, we can produce assertions that test if a condition is True, otherwise the execution is stopped with an ```AssertionError```. This error can be caught and handled appropriately. Note that in the code below, only the AssertionError is caught and a division by 0 (e.g. print(10/0))"
   ]
  },
  {
   "cell_type": "code",
   "execution_count": 52,
   "metadata": {},
   "outputs": [
    {
     "name": "stdout",
     "output_type": "stream",
     "text": [
      "(8, 16)\n",
      "Whoops something went wrong. Ignore the rest.\n",
      "y: two is not integer\n"
     ]
    }
   ],
   "source": [
    "class MyIntPair:\n",
    "    def __init__(self, x,y):\n",
    "        assert type(x) == int, \"x: {} is not integer\".format(x)\n",
    "        assert type(y) == int, \"y: {} is not integer\".format(y)\n",
    "        self.x = x\n",
    "        self.y = y\n",
    "        \n",
    "        \n",
    "    def __add__(self, other):\n",
    "        return (self.x + other.x, self.y + other.y)\n",
    "    \n",
    "try: \n",
    "    A = MyIntPair(5,10)\n",
    "    B = MyIntPair(3,6)\n",
    "    #Uncomment to see a different error (not captured!)\n",
    "    #print(10/0)\n",
    "    print(A + B)\n",
    "    C = MyIntPair(1, \"two\")\n",
    "    print(A + C)\n",
    "\n",
    "except AssertionError as e:\n",
    "    print(\"Whoops something went wrong. Ignore the rest.\")\n",
    "    print(str(e))"
   ]
  },
  {
   "cell_type": "markdown",
   "metadata": {},
   "source": [
    "## Unit tests\n",
    "\n",
    "Python comes with a fully-fledgeted testing module which is called ```unittest```. Have a look [here](https://docs.python.org/3.8/library/unittest.html) for detailed information on this module.\n",
    "\n",
    "The module ```unittest``` must be imported first with ```import unittest``` and then the Test class must be implemented to perform the tests.\n",
    "\n",
    "In a nutshell, to create some unit tests we need to define a ```Testing``` class (we are free to call it as we like) which is a subclass of the class ```unittest.TestCase```. Within this class, we have then to specify the tests we want to run. Every test is a method and its name **must start** with ```test_``` (e.g. ```test_length```).\n",
    "\n",
    "Tests can use assertions ```assertEqual(value1, value2)```, ```assertTrue(condition)``` or ```assertFalse(condition)``` that respectively allow to check the equality of two values (i.e. the known result and the output of the method to be tested) and the truth value of a condition (typically computed on the output of the method under test).\n",
    "\n",
    "We can add the invocation to the ```unittest``` module within the script by adding (```unittest.main()```) for example in the ```main``` part through ```if __name__ == \"__main__\":```. In this case, we can perform the tests just by calling something like:\n",
    "```\n",
    "python3 my_testing_function.py\n",
    "```\n",
    "\n",
    "without specifying ```unittest.main()``` in the script, we need to call the unittest with:\n",
    "```\n",
    "python3 -m unittest my_testing_function.py\n",
    "```\n",
    "\n",
    "The unittest will provide us feedback on how the tests performed. In particular, if all the tests are passed we should get something like:\n",
    "\n",
    "```\n",
    "python3 -m unittest file_samples/my_testing_function.py \n",
    "\n",
    ".....\n",
    "----------------------------------------------------------------------\n",
    "Ran 5 tests in 0.387s\n",
    "\n",
    "OK\n",
    "```\n",
    "otherwise, in case of some errors like:\n",
    "\n",
    "```\n",
    "...FF\n",
    "======================================================================\n",
    "FAIL: test_one (file_samples.my_testing_function.Testing)\n",
    "----------------------------------------------------------------------\n",
    "Traceback (most recent call last):\n",
    "  File \"/home/biancol/Google Drive/work/courses/QCBsciprolab/file_samples/my_testing_function.py\", line 33, in test_one\n",
    "    self.assertEqual(getFirstNprimes(1),[2])\n",
    "AssertionError: Lists differ: [10] != [2]\n",
    "\n",
    "First differing element 0:\n",
    "10\n",
    "2\n",
    "\n",
    "- [10]\n",
    "+ [2]\n",
    "\n",
    "======================================================================\n",
    "FAIL: test_ten (file_samples.my_testing_function.Testing)\n",
    "----------------------------------------------------------------------\n",
    "Traceback (most recent call last):\n",
    "  File \"/home/biancol/Google Drive/work/courses/QCBsciprolab/file_samples/my_testing_function.py\", line 37, in test_ten\n",
    "    [2, 3, 5, 7, 11, 13, 17, 19, 23, 29])\n",
    "AssertionError: Lists differ: [2, 3, 5, 7, 11, 13, 17, 10, 23, 29] != [2, 3, 5, 7, 11, 13, 17, 19, 23, 29]\n",
    "\n",
    "First differing element 7:\n",
    "10\n",
    "19\n",
    "\n",
    "- [2, 3, 5, 7, 11, 13, 17, 10, 23, 29]\n",
    "?                           ^\n",
    "\n",
    "+ [2, 3, 5, 7, 11, 13, 17, 19, 23, 29]\n",
    "?                           ^\n",
    "\n",
    "\n",
    "----------------------------------------------------------------------\n",
    "Ran 5 tests in 0.770s\n",
    "\n",
    "FAILED (failures=2)\n",
    "\n",
    "```\n",
    "\n",
    "**Example:**\n",
    "Let's define some doctest tests for the simple function computing the first N prime numbers. The file is available here: [my_testing_function.py](file_samples/my_testing_function.py)."
   ]
  },
  {
   "cell_type": "code",
   "execution_count": 60,
   "metadata": {},
   "outputs": [
    {
     "name": "stdout",
     "output_type": "stream",
     "text": [
      "[2, 3, 5, 7, 11, 13, 17, 19, 23, 29, 31, 37, 41, 43, 47, 53, 59, 61, 67, 71]\n"
     ]
    }
   ],
   "source": [
    "%reset -f \n",
    "\"\"\"\n",
    "In file my_testing_function.py\n",
    "\"\"\"\n",
    "\n",
    "import unittest\n",
    "import random\n",
    "\n",
    "def getFirstNprimes(N):\n",
    "    '''\n",
    "    This function should output the first N prime numbers.\n",
    "     '''\n",
    "    if N <= 0:\n",
    "        return []\n",
    "    res = [2]\n",
    "    current = 3\n",
    "    while len(res) < N:\n",
    "        if len([x for x in res if current % x == 0]) == 0:\n",
    "            res.append(current)\n",
    "        current += 1\n",
    "    #uncomment next line to introduce a bug\n",
    "    #res.append(1)\n",
    "    #or a more subtle error:\n",
    "    #ind = random.randint(len(res))\n",
    "    #res[ind] = 10\n",
    "    return res        \n",
    "\n",
    "class Testing(unittest.TestCase):\n",
    "    def test_empty(self):\n",
    "        self.assertEqual(getFirstNprimes(0),[])\n",
    "    \n",
    "    def test_one(self):\n",
    "        self.assertEqual(getFirstNprimes(1),[2])\n",
    "    \n",
    "    def test_ten(self):\n",
    "        self.assertEqual(getFirstNprimes(10),\n",
    "                         [2, 3, 5, 7, 11, 13, 17, 19, 23, 29])\n",
    "    \n",
    "    def test_len(self):\n",
    "        for i in range(0,10):\n",
    "            n = random.randint(1,1000)\n",
    "            self.assertFalse(len(getFirstNprimes(n)) != n)\n",
    "    \n",
    "    \n",
    "    def test_negative(self):\n",
    "        self.assertTrue(len(getFirstNprimes(-1)) == 0)\n",
    "\n",
    "if __name__ == \"__main__\":\n",
    "    #uncomment to run the tests in the main (without -m)\n",
    "    #unittest.main()\n",
    "    print(getFirstNprimes(20))"
   ]
  },
  {
   "cell_type": "markdown",
   "metadata": {},
   "source": [
    "\n",
    "\n",
    "Running the tests on the previous code without any \"intentional bug\" will produce an OK message as above, \n"
   ]
  },
  {
   "cell_type": "markdown",
   "metadata": {},
   "source": [
    "## Regular Expressions "
   ]
  },
  {
   "cell_type": "code",
   "execution_count": null,
   "metadata": {},
   "outputs": [],
   "source": []
  },
  {
   "cell_type": "markdown",
   "metadata": {},
   "source": [
    "**Example:** Let's align the first 100 bases of the first entry of the file [contigs82.fasta](file_samples/contigs82.fasta) to the Malus Domestica genome.\n",
    "\n",
    "**NOTE: this can take several minutes.**"
   ]
  },
  {
   "cell_type": "code",
   "execution_count": null,
   "metadata": {},
   "outputs": [],
   "source": [
    "from Bio.PDB import *\n",
    "\n",
    "pdbl = PDBList()\n",
    "structures = [\"3C2K\", \"3C2L\"]\n",
    "el = pdbl.download_pdb_files(structures, \n",
    "                             file_format = \"mmCif\", \n",
    "                             pdir = \"file_samples/\")\n"
   ]
  },
  {
   "cell_type": "markdown",
   "metadata": {},
   "source": [
    "## Exercises\n"
   ]
  },
  {
   "cell_type": "markdown",
   "metadata": {},
   "source": [
    "1. Write a python script that retrieves all the information present in SRA regarding PacBio sequencing performed on E.coli strain K12 (query term is \"E.coli K12 wgs PacBio\"). Print the number of results and for each id report the title, the accession id, the total number of spots and total number of bases sequenced. \n",
    "\n",
    "Sample output: \n",
    "```\n",
    "Entries found: 9\n",
    "Results for id: 357838\n",
    "E. coli K12 PacBio RS C2 CCS sequencing\n",
    " - acc=\"SRR799325\"\n",
    " - total_spots=\"81741\"\n",
    " - total_bases=\"242869038\"\n",
    "Results for id: 357018\n",
    "E. coli K12 MG1655 PacBio RS C2 Sequencing\n",
    " - acc=\"SRR797943\"\n",
    " - total_spots=\"81741\"\n",
    " - total_bases=\"207734764\"\n",
    " \n",
    " ...\n",
    " ...\n",
    "```\n",
    "\n",
    "<div class=\"tggle\" onclick=\"toggleVisibility('ex2a');\">Show/Hide Solution</div>\n",
    "<div id=\"ex2a\" style=\"display:none;\">"
   ]
  },
  {
   "cell_type": "code",
   "execution_count": null,
   "metadata": {},
   "outputs": [],
   "source": [
    "%reset -f\n",
    "\n",
    "from Bio import Entrez\n",
    "\n",
    "Entrez.email = \"my_email\"\n",
    "handle = Entrez.esearch(db=\"sra\", term=\"E.coli K12 wgs PacBio\", retmax = 10)\n",
    "res = Entrez.read(handle)\n",
    "#uncomment to see all fields:\n",
    "#for el in res.keys():\n",
    "#    print(el , \" : \", res[el])\n",
    "#print(\"Entries found: {}\".format(res[\"Count\"]))\n",
    "\n",
    "\n",
    "for ids in res[\"IdList\"]:    \n",
    "    print(\"Results for id:\", ids)\n",
    "    handle = Entrez.esummary(db=\"sra\",  id = ids)\n",
    "    res = Entrez.read(handle)\n",
    "    #uncomment to see all info\n",
    "    #print(res)\n",
    "    for r in res:\n",
    "        info = r['ExpXml']\n",
    "        #print(info)\n",
    "        runs = r['Runs']\n",
    "        #some text parsing to do:\n",
    "        title = info.split(\"Title>\")\n",
    "        #print(title)\n",
    "        #print(title[1][:-2])\n",
    "        print(runs)\n",
    "        r = runs.split(\" \")\n",
    "        print(r)\n",
    "        print(\" - {}\\n - {}\\n - {}\".format(r[1],\n",
    "                                           r[2],\n",
    "                                           r[3]))"
   ]
  },
  {
   "cell_type": "markdown",
   "metadata": {},
   "source": [
    "</div>"
   ]
  },
  {
   "cell_type": "markdown",
   "metadata": {},
   "source": [
    "2. Write a python function that reads all the entries of a blast alignment file in .xml format (like [blast_res_apple.xml](file_samples/blast_res_apple.xml) and outputs all the HSPs (see example below) having bitscore > B, alignment length >  A and minimum percentage of identity > I, where B, A and I are input thresholds. Hint: implement a filtering function: *filterHSPs(align, minBitscore = 0, minAlignLen = 0, minPercIdent = 0.1)*.\n",
    "\n",
    "```\n",
    "Alignments of MDC020656.85\n",
    "\tMDC020656.85: 1939-2593\n",
    "\tgi|125995253|dbj|AB270792.1|: 201263-201917\n",
    "\tScore:820.917 AlignLen:579 Id/Len:0.8812785388127854\n",
    "\tMDC020656.85: 1446-1935\n",
    "\tgi|125995253|dbj|AB270792.1|: 306490-306017\n",
    "\tScore:582.873 AlignLen:428 Id/Len:0.8629032258064516\n",
    "    ....\n",
    "    ....\n",
    "```\n",
    "\n",
    "that is reporting the HSP with query start-end position, subject start-end position, score, alignment length and number of identities / alignment length. \n",
    "\n",
    "<div class=\"tggle\" onclick=\"toggleVisibility('ex0');\">Show/Hide Solution</div>\n",
    "<div id=\"ex0\" style=\"display:none;\">"
   ]
  },
  {
   "cell_type": "code",
   "execution_count": null,
   "metadata": {},
   "outputs": [],
   "source": [
    "%reset -f\n",
    "\n",
    "from Bio.Blast import NCBIXML\n",
    "\n",
    "\n",
    "def filterHSPs(align, minBitscore = 0, minAlignLen = 0, minPercIdent = 0.1):\n",
    "    ret = []\n",
    "\n",
    "    for h in align.hsps:\n",
    "            b = h.bits\n",
    "            i = h.identities \n",
    "            al = h.align_length\n",
    "            toOut = ((b > minBitscore) and \n",
    "                    (al > minAlignLen) and\n",
    "                    (i/al > minPercIdent))\n",
    "\n",
    "            \n",
    "            \n",
    "            if(toOut):\n",
    "                qs = h.query_start\n",
    "                ss = h.sbjct_start\n",
    "                qe = h.query_end\n",
    "                se = h.sbjct_end\n",
    "                ret.append([qs,qe, ss,se, b, i, al])\n",
    "             \n",
    "    return ret        \n",
    "\n",
    "result_handle = open(\"file_samples/blast_res_apple.xml\")\n",
    "\n",
    "\n",
    "for res in NCBIXML.parse(result_handle):\n",
    "    print(\"Alignments of {}\".format(res.query))\n",
    "    for align in res.alignments:\n",
    "        filtered = filterHSPs(align, 300, 50, 0.8)\n",
    "        if(len(filtered) > 0):\n",
    "            for h in filtered:\n",
    "                title = align.title.split( )[0]\n",
    "                print(\"\\t{}: {}-{}\".format(res.query,h[0],h[1]))\n",
    "                print(\"\\t{}: {}-{}\".format(title,h[2],h[3]))\n",
    "                print(\"\\tScore:{} AlignLen:{} Id/Len:{}\".format(\n",
    "                                                                h[4],\n",
    "                                                                h[5],\n",
    "                                                                h[5]/h[6]\n",
    "                                                               ))\n",
    "            \n",
    "    \n",
    "\n",
    "            \n",
    "\n",
    "result_handle.close()"
   ]
  },
  {
   "cell_type": "markdown",
   "metadata": {},
   "source": [
    "</div>"
   ]
  },
  {
   "cell_type": "markdown",
   "metadata": {},
   "source": [
    "3. Write a python function ```retrieve_sequences(search_term, number, outfile)``` that retrieves the first ```number``` of sequences from NCBI's \"nucleotide\" database having a search  term  ```term``` (hint: use term and retmax parameters of Entrez.esearch) and stores them in a fasta file ```outfile``` (hint: use SeqIO.write). Test your code retrieving the first 5 entries having search term \"starch AND Malus Domestica [Organism]\"\n",
    "\n",
    "<div class=\"tggle\" onclick=\"toggleVisibility('ex1');\">Show/Hide Solution</div>\n",
    "<div id=\"ex1\" style=\"display:none;\">"
   ]
  },
  {
   "cell_type": "code",
   "execution_count": null,
   "metadata": {},
   "outputs": [],
   "source": [
    "%reset -f\n",
    "\n",
    "from Bio import Entrez\n",
    "from Bio import SeqIO\n",
    "\n",
    "def retrieve_sequences(search_term, number, filename):\n",
    "    Entrez.email = \"my_email\"\n",
    "    handle = Entrez.esearch(db=\"nucleotide\", \n",
    "                            term=search_term, \n",
    "                            retmax=5)\n",
    "    res = Entrez.read(handle)\n",
    "    records = []\n",
    "    for el in res[\"IdList\"]:\n",
    "        handle = Entrez.efetch(db=\"nucleotide\", \n",
    "                               id=el, \n",
    "                               rettype = \"gb\", \n",
    "                               retmode=\"text\")\n",
    "        my_seq = SeqIO.read(handle, format = \"genbank\")\n",
    "        records.append(my_seq)\n",
    "    N = SeqIO.write(records, filename, \"fasta\")\n",
    "    print(\"Search term was: \", search_term)\n",
    "    print(\"{} sequences written to {}\".format(N,filename))\n",
    "    \n",
    "s_term = \"starch AND Malus Domestica [Organism]\"\n",
    "retrieve_sequences(s_term, 5, \"file_samples/starch_sequences.fasta\")\n"
   ]
  },
  {
   "cell_type": "markdown",
   "metadata": {},
   "source": [
    "</div>"
   ]
  },
  {
   "cell_type": "markdown",
   "metadata": {},
   "source": [
    "4. Write a python function that aligns the sequences  in the file created in exercise 3. ([here](file_samples/starch_sequences.fasta) you can find mine) against the NCBI nr database limiting the hits to the Malus Domestica organism (parameter entrez_query='\"Malus Domestica\" [Organism]' in qblast)and prints to screen the following info for each hsp: \n",
    "    1. The title;\n",
    "    2. Score and e-value;\n",
    "    3. The number of alignments on the same subject, the number of identities and positives and the alignment length;\n",
    "    4. The number of mismatches and the list of their positions (hint: you can use the match string and look for \" \").\n",
    "   \n",
    "\n",
    "    \n",
    "<div class=\"tggle\" onclick=\"toggleVisibility('ex2');\">Show/Hide Solution</div>\n",
    "<div id=\"ex2\" style=\"display:none;\">"
   ]
  },
  {
   "cell_type": "code",
   "execution_count": null,
   "metadata": {},
   "outputs": [],
   "source": [
    "from Bio.Blast import NCBIWWW\n",
    "from Bio.Blast import NCBIXML\n",
    "\n",
    "fasta_string = open(\"file_samples/starch_sequences.fasta\").read()\n",
    "\n",
    "res_handle = NCBIWWW.qblast(\"blastn\", \"nt\", fasta_string, \n",
    "                            entrez_query='\"Malus Domestica\" [Organism]'\n",
    "                           )\n",
    "\n",
    "for align in NCBIXML.parse(res_handle):\n",
    "    \n",
    "    for a in align.alignments:\n",
    "            print(\"Align Title:{}\".format(a.title))\n",
    "            \n",
    "            for h in a.hsps:\n",
    "                s = h.score\n",
    "                e = h.expect\n",
    "                n = h.num_alignments\n",
    "                i = h.identities\n",
    "                p = h.positives\n",
    "                m = h.match \n",
    "                al = h.align_length\n",
    "                misM = [str(x) for x in range(len(m)) if m[x] == \" \"]\n",
    "                print(\"Score: {} E-val: {}\".format(s,e))\n",
    "                print(\"N.aligns:{} Ident:{} Pos.:{} Align len:{}\".format(\n",
    "                    n,i,p,al))\n",
    "                if(len(misM)):\n",
    "                    print(\"Num mismatches:\",len(misM))\n",
    "                    print(\"Mismatch pos:\", \",\".join(misM))\n",
    "                else:\n",
    "                    print(\"No mismatches\")\n",
    "                print(\"\")\n",
    "            \n",
    "\n",
    "res_handle.close()\n",
    "\n"
   ]
  },
  {
   "cell_type": "markdown",
   "metadata": {},
   "source": [
    "</div>"
   ]
  },
  {
   "cell_type": "markdown",
   "metadata": {},
   "source": [
    "5. Write a python function ```getPublicationInfo(title_term,other_term)``` that retrieves the first 20 pubmed publications having the ```title_term``` in the title and ```other_term``` somewhere else in the text (hint use: \"Title\" and \"[Other Term]\" as esearch parameter term). For each publication print: \n",
    "    1. the title\n",
    "    2. authors \n",
    "    3. journal \n",
    "    4. year of publication (hint: get and split properly the \"PubDate\" entry)\n",
    "    5. a link to the pubmed entry (hint: it is the string \"https://www.ncbi.nlm.nih.gov/pubmed/\" followed by the pubmed id (\"eid\" entry of the dictionary \"ArticleIds\"). es: https://www.ncbi.nlm.nih.gov/pubmed/26919684\n",
    "\n",
    "Hint: to see how to combine search terms test them here: [https://www.ncbi.nlm.nih.gov/pubmed/advanced](https://www.ncbi.nlm.nih.gov/pubmed/advanced).\n",
    "\n",
    "Test your code calling ```getPublicationInfo(\"apple\",\"drought\")```\n",
    "\n",
    "<div class=\"tggle\" onclick=\"toggleVisibility('ex3');\">Show/Hide Solution</div>\n",
    "<div id=\"ex3\" style=\"display:none;\">"
   ]
  },
  {
   "cell_type": "code",
   "execution_count": null,
   "metadata": {},
   "outputs": [],
   "source": [
    "\n",
    "from Bio import Entrez\n",
    "\n",
    "def getPublicationInfo(title_term,other_term): \n",
    "    Entrez.email = \"my_email\"\n",
    "    s_term = title_term + \" [Title] AND \" + other_term + \" [Other Term]\"\n",
    "    handle = Entrez.esearch(db=\"pubmed\", term=s_term)\n",
    "    res = Entrez.read(handle)\n",
    "#uncomment to see all info\n",
    "#    for el in res.keys():\n",
    "#        print(el , \" : \", res[el])\n",
    "#\n",
    "#    print(\"\")\n",
    "    for ids in res[\"IdList\"]:    \n",
    "        handle = Entrez.esummary(db=\"pubmed\",  id = ids)\n",
    "        res = Entrez.read(handle)\n",
    "        #uncomment to see all info\n",
    "        #print(res)\n",
    "        for r in res:\n",
    "            print(r[\"Title\"])\n",
    "            print(\",\".join(r[\"AuthorList\"]))\n",
    "            print(r[\"Source\"])\n",
    "            print(r[\"PubDate\"].split()[0])\n",
    "            print(\"https://www.ncbi.nlm.nih.gov/pubmed/\" + r[\"ArticleIds\"][\"eid\"])\n",
    "            print(\"\")\n",
    "            \n",
    "getPublicationInfo(\"apple\",\"drought\")"
   ]
  },
  {
   "cell_type": "markdown",
   "metadata": {},
   "source": [
    "</div>"
   ]
  },
  {
   "cell_type": "markdown",
   "metadata": {},
   "source": [
    "6. Write some python code to retrieve the structure of two forms of the aspartate transcarbamoylase (PDB ids: 4FYW and 1D09). If you are interested, read more about the Aspartate Transcarbamoylase [here](http://pdb101.rcsb.org/motm/215). Write a function that gets the .cif file name and prints:\n",
    "\n",
    "    1. the number of chains, residues and atoms present in the file;\n",
    "    2. a histogram of the residues (plotting it with matplotlib) that are not water (encoded as \"HOH\");\n",
    "    3. a link to an online tool to visualize the 3D structure. The link will be \"http://www.rcsb.org/pdb/ngl/ngl.do?pdbid=\" followed by the PDB id of the protein (e.g. 1d09).\n",
    "\n",
    "<div class=\"tggle\" onclick=\"toggleVisibility('ex4');\">Show/Hide Solution</div>\n",
    "<div id=\"ex4\" style=\"display:none;\">"
   ]
  },
  {
   "cell_type": "code",
   "execution_count": null,
   "metadata": {},
   "outputs": [],
   "source": [
    "from Bio.PDB import *\n",
    "import matplotlib.pyplot as plt\n",
    "\n",
    "def printCifInfo(filename):\n",
    "    \n",
    "    parser = MMCIFParser(QUIET=True) #To disable warnings\n",
    "    id = filename.split(\"/\")[1].split(\".\")[0]\n",
    "\n",
    "    structure = parser.get_structure(id, filename)\n",
    "    chains = structure.get_chains()\n",
    "    residues = structure.get_residues()\n",
    "    \n",
    "    atoms = structure.get_atoms()\n",
    "    res_histo = {}\n",
    "    resCnt = 0 #need this because while reading the residues \n",
    "               #I am pulling stuff out of the iterator\n",
    "    for res in residues:\n",
    "        rname = res.get_resname()\n",
    "        if(rname != \"HOH\"):\n",
    "            if( rname not in res_histo):\n",
    "                res_histo[rname] = 1\n",
    "            else:\n",
    "                res_histo[rname] += 1\n",
    "        resCnt += 1    \n",
    "    plt.figure(figsize=(15,5))\n",
    "    plt.bar(res_histo.keys(), res_histo.values())\n",
    "    plt.show()\n",
    "    print(\"Number of chains: {}\".format(len(list(chains))))\n",
    "    print(\"Number of residues: {}\".format(resCnt))\n",
    "    print(\"Number of atoms: {}\".format(len(list(atoms))))\n",
    "    print(\"http://www.rcsb.org/pdb/ngl/ngl.do?pdbid=\" + id) \n",
    "\n",
    "pdbl = PDBList()\n",
    "structures = [\"1D09\", \"4FYW\"]\n",
    "el = pdbl.download_pdb_files(structures, file_format = \"mmCif\", pdir = \"file_samples/\")\n",
    "\n",
    "printCifInfo(\"file_samples/1d09.cif\")\n",
    "printCifInfo(\"file_samples/4fyw.cif\")"
   ]
  },
  {
   "cell_type": "code",
   "execution_count": null,
   "metadata": {},
   "outputs": [],
   "source": [
    "</div>"
   ]
  }
 ],
 "metadata": {
  "celltoolbar": "Edit Metadata",
  "kernelspec": {
   "display_name": "Python 3",
   "language": "python",
   "name": "python3"
  },
  "language_info": {
   "codemirror_mode": {
    "name": "ipython",
    "version": 3
   },
   "file_extension": ".py",
   "mimetype": "text/x-python",
   "name": "python",
   "nbconvert_exporter": "python",
   "pygments_lexer": "ipython3",
   "version": "3.5.2"
  }
 },
 "nbformat": 4,
 "nbformat_minor": 2
}
