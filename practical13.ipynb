{
 "cells": [
  {
   "cell_type": "markdown",
   "metadata": {
    "nbsphinx": "hidden"
   },
   "source": [
    "### NOTE FOR LUCA\n",
    "\n",
    "**Remember to set/remove metadata as:**\n",
    "{\n",
    "  \"nbsphinx\": \"hidden\"\n",
    "}\n",
    "\n",
    "to enable/disable solutions view"
   ]
  },
  {
   "cell_type": "markdown",
   "metadata": {},
   "source": [
    "\n",
    "# Practical 13\n",
    "\n",
    "In this practical we will continue with object oriented programming and will focus on code testing in Python. Finally we will introduce regular expressions.\n",
    "\n",
    "## Slides\n",
    "\n",
    "The slides of the introduction can be found here: [Intro](docs/Practical13.pdf)\n",
    "\n",
    "## Testing your code \n",
    "\n",
    "Testing the code is quite an important step to make sure that the code is predictable and although some bugs can always slip through, **testing is the process of making the code as predictable as possible**.\n",
    "\n",
    "Two types of testing exist: the **white-box** testing methodology looks into every detail of the implemented code to inspect its correctness, **black-box** testing does not look at the details of how the code is implemented, but it just focus on the correctness of the output produced by the code.\n",
    "\n",
    "Testing is quite a complex and articulated topic, here we will just scratch the tip of the iceberg (there are many books on the topic if you are interested).\n",
    "\n",
    "A **test** is a piece of code written with the sole purpose of checking the correctness of another piece of code. \n",
    "\n",
    "Testing requires three successive moments: first of all we need to **set up** (or prepare) the test setting up connections/interfaces to test data, the second step is to **execute** the piece of code we are aiming to test using the interfaces devised at the previous step, and the third is the **verification** of the results to make sure they look as they were expected to.\n",
    "\n",
    "**Example:**\n",
    "Let's define a simple class rectangle with two fields (length and width) and two methods (perimeter and area)."
   ]
  },
  {
   "cell_type": "code",
   "execution_count": 1,
   "metadata": {},
   "outputs": [
    {
     "name": "stdout",
     "output_type": "stream",
     "text": [
      "<class '__main__.Rectangle'>\n",
      "<class '__main__.Rectangle'>\n",
      "R == R1? False id R:139761932127984 id R1:139761932128096\n",
      "\n",
      "R:\n",
      "Length: 5 Width: 10\n",
      "Perimeter: 30\n",
      "Area:50\n",
      "\n",
      "R2:\n",
      "Length: 72 Width: 13\n",
      "Perimeter: 170\n",
      "Area:936\n"
     ]
    }
   ],
   "source": [
    "class Rectangle:\n",
    "    def __init__(self, l,w):\n",
    "        self.length = l\n",
    "        self.width = w\n",
    "        \n",
    "    def perimeter(self):\n",
    "        return 2*(self.length + self.width)\n",
    "    \n",
    "    def area(self):\n",
    "        return self.length * self.width\n",
    "\n",
    "R = Rectangle(5,10)\n",
    "print(type(R))\n",
    "R1 = Rectangle(5,10)\n",
    "print(type(R1))\n",
    "print(\"R == R1? {} id R:{} id R1:{}\".format(R == R1, \n",
    "                                            id(R),\n",
    "                                            id(R1)))\n",
    "p = R.perimeter()\n",
    "a = R.area()\n",
    "print(\"\\nR:\\nLength: {} Width: {}\\nPerimeter: {}\\nArea:{}\".format(R.length,R.width,p,a))\n",
    "R2 = Rectangle(72,13)\n",
    "p = R2.perimeter()\n",
    "a = R2.area()\n",
    "print(\"\\nR2:\\nLength: {} Width: {}\\nPerimeter: {}\\nArea:{}\".format(R2.length,R2.width,p,a))"
   ]
  },
  {
   "cell_type": "markdown",
   "metadata": {},
   "source": [
    "## Unit tests\n"
   ]
  },
  {
   "cell_type": "markdown",
   "metadata": {},
   "source": [
    "\n",
    "\n",
    "## Regular Expressions \n",
    "\n"
   ]
  },
  {
   "cell_type": "markdown",
   "metadata": {},
   "source": [
    "**Example:** Let's align the first 100 bases of the first entry of the file [contigs82.fasta](file_samples/contigs82.fasta) to the Malus Domestica genome.\n",
    "\n",
    "**NOTE: this can take several minutes.**"
   ]
  },
  {
   "cell_type": "code",
   "execution_count": null,
   "metadata": {},
   "outputs": [],
   "source": [
    "from Bio.PDB import *\n",
    "\n",
    "pdbl = PDBList()\n",
    "structures = [\"3C2K\", \"3C2L\"]\n",
    "el = pdbl.download_pdb_files(structures, \n",
    "                             file_format = \"mmCif\", \n",
    "                             pdir = \"file_samples/\")\n"
   ]
  },
  {
   "cell_type": "markdown",
   "metadata": {},
   "source": [
    "## Exercises\n"
   ]
  },
  {
   "cell_type": "markdown",
   "metadata": {},
   "source": [
    "1. Write a python script that retrieves all the information present in SRA regarding PacBio sequencing performed on E.coli strain K12 (query term is \"E.coli K12 wgs PacBio\"). Print the number of results and for each id report the title, the accession id, the total number of spots and total number of bases sequenced. \n",
    "\n",
    "Sample output: \n",
    "```\n",
    "Entries found: 9\n",
    "Results for id: 357838\n",
    "E. coli K12 PacBio RS C2 CCS sequencing\n",
    " - acc=\"SRR799325\"\n",
    " - total_spots=\"81741\"\n",
    " - total_bases=\"242869038\"\n",
    "Results for id: 357018\n",
    "E. coli K12 MG1655 PacBio RS C2 Sequencing\n",
    " - acc=\"SRR797943\"\n",
    " - total_spots=\"81741\"\n",
    " - total_bases=\"207734764\"\n",
    " \n",
    " ...\n",
    " ...\n",
    "```\n",
    "\n",
    "<div class=\"tggle\" onclick=\"toggleVisibility('ex2a');\">Show/Hide Solution</div>\n",
    "<div id=\"ex2a\" style=\"display:none;\">"
   ]
  },
  {
   "cell_type": "code",
   "execution_count": null,
   "metadata": {},
   "outputs": [],
   "source": [
    "%reset -f\n",
    "\n",
    "from Bio import Entrez\n",
    "\n",
    "Entrez.email = \"my_email\"\n",
    "handle = Entrez.esearch(db=\"sra\", term=\"E.coli K12 wgs PacBio\", retmax = 10)\n",
    "res = Entrez.read(handle)\n",
    "#uncomment to see all fields:\n",
    "#for el in res.keys():\n",
    "#    print(el , \" : \", res[el])\n",
    "#print(\"Entries found: {}\".format(res[\"Count\"]))\n",
    "\n",
    "\n",
    "for ids in res[\"IdList\"]:    \n",
    "    print(\"Results for id:\", ids)\n",
    "    handle = Entrez.esummary(db=\"sra\",  id = ids)\n",
    "    res = Entrez.read(handle)\n",
    "    #uncomment to see all info\n",
    "    #print(res)\n",
    "    for r in res:\n",
    "        info = r['ExpXml']\n",
    "        #print(info)\n",
    "        runs = r['Runs']\n",
    "        #some text parsing to do:\n",
    "        title = info.split(\"Title>\")\n",
    "        #print(title)\n",
    "        #print(title[1][:-2])\n",
    "        print(runs)\n",
    "        r = runs.split(\" \")\n",
    "        print(r)\n",
    "        print(\" - {}\\n - {}\\n - {}\".format(r[1],\n",
    "                                           r[2],\n",
    "                                           r[3]))"
   ]
  },
  {
   "cell_type": "markdown",
   "metadata": {},
   "source": [
    "</div>"
   ]
  },
  {
   "cell_type": "markdown",
   "metadata": {},
   "source": [
    "2. Write a python function that reads all the entries of a blast alignment file in .xml format (like [blast_res_apple.xml](file_samples/blast_res_apple.xml) and outputs all the HSPs (see example below) having bitscore > B, alignment length >  A and minimum percentage of identity > I, where B, A and I are input thresholds. Hint: implement a filtering function: *filterHSPs(align, minBitscore = 0, minAlignLen = 0, minPercIdent = 0.1)*.\n",
    "\n",
    "```\n",
    "Alignments of MDC020656.85\n",
    "\tMDC020656.85: 1939-2593\n",
    "\tgi|125995253|dbj|AB270792.1|: 201263-201917\n",
    "\tScore:820.917 AlignLen:579 Id/Len:0.8812785388127854\n",
    "\tMDC020656.85: 1446-1935\n",
    "\tgi|125995253|dbj|AB270792.1|: 306490-306017\n",
    "\tScore:582.873 AlignLen:428 Id/Len:0.8629032258064516\n",
    "    ....\n",
    "    ....\n",
    "```\n",
    "\n",
    "that is reporting the HSP with query start-end position, subject start-end position, score, alignment length and number of identities / alignment length. \n",
    "\n",
    "<div class=\"tggle\" onclick=\"toggleVisibility('ex0');\">Show/Hide Solution</div>\n",
    "<div id=\"ex0\" style=\"display:none;\">"
   ]
  },
  {
   "cell_type": "code",
   "execution_count": null,
   "metadata": {},
   "outputs": [],
   "source": [
    "%reset -f\n",
    "\n",
    "from Bio.Blast import NCBIXML\n",
    "\n",
    "\n",
    "def filterHSPs(align, minBitscore = 0, minAlignLen = 0, minPercIdent = 0.1):\n",
    "    ret = []\n",
    "\n",
    "    for h in align.hsps:\n",
    "            b = h.bits\n",
    "            i = h.identities \n",
    "            al = h.align_length\n",
    "            toOut = ((b > minBitscore) and \n",
    "                    (al > minAlignLen) and\n",
    "                    (i/al > minPercIdent))\n",
    "\n",
    "            \n",
    "            \n",
    "            if(toOut):\n",
    "                qs = h.query_start\n",
    "                ss = h.sbjct_start\n",
    "                qe = h.query_end\n",
    "                se = h.sbjct_end\n",
    "                ret.append([qs,qe, ss,se, b, i, al])\n",
    "             \n",
    "    return ret        \n",
    "\n",
    "result_handle = open(\"file_samples/blast_res_apple.xml\")\n",
    "\n",
    "\n",
    "for res in NCBIXML.parse(result_handle):\n",
    "    print(\"Alignments of {}\".format(res.query))\n",
    "    for align in res.alignments:\n",
    "        filtered = filterHSPs(align, 300, 50, 0.8)\n",
    "        if(len(filtered) > 0):\n",
    "            for h in filtered:\n",
    "                title = align.title.split( )[0]\n",
    "                print(\"\\t{}: {}-{}\".format(res.query,h[0],h[1]))\n",
    "                print(\"\\t{}: {}-{}\".format(title,h[2],h[3]))\n",
    "                print(\"\\tScore:{} AlignLen:{} Id/Len:{}\".format(\n",
    "                                                                h[4],\n",
    "                                                                h[5],\n",
    "                                                                h[5]/h[6]\n",
    "                                                               ))\n",
    "            \n",
    "    \n",
    "\n",
    "            \n",
    "\n",
    "result_handle.close()"
   ]
  },
  {
   "cell_type": "markdown",
   "metadata": {},
   "source": [
    "</div>"
   ]
  },
  {
   "cell_type": "markdown",
   "metadata": {},
   "source": [
    "3. Write a python function ```retrieve_sequences(search_term, number, outfile)``` that retrieves the first ```number``` of sequences from NCBI's \"nucleotide\" database having a search  term  ```term``` (hint: use term and retmax parameters of Entrez.esearch) and stores them in a fasta file ```outfile``` (hint: use SeqIO.write). Test your code retrieving the first 5 entries having search term \"starch AND Malus Domestica [Organism]\"\n",
    "\n",
    "<div class=\"tggle\" onclick=\"toggleVisibility('ex1');\">Show/Hide Solution</div>\n",
    "<div id=\"ex1\" style=\"display:none;\">"
   ]
  },
  {
   "cell_type": "code",
   "execution_count": null,
   "metadata": {},
   "outputs": [],
   "source": [
    "%reset -f\n",
    "\n",
    "from Bio import Entrez\n",
    "from Bio import SeqIO\n",
    "\n",
    "def retrieve_sequences(search_term, number, filename):\n",
    "    Entrez.email = \"my_email\"\n",
    "    handle = Entrez.esearch(db=\"nucleotide\", \n",
    "                            term=search_term, \n",
    "                            retmax=5)\n",
    "    res = Entrez.read(handle)\n",
    "    records = []\n",
    "    for el in res[\"IdList\"]:\n",
    "        handle = Entrez.efetch(db=\"nucleotide\", \n",
    "                               id=el, \n",
    "                               rettype = \"gb\", \n",
    "                               retmode=\"text\")\n",
    "        my_seq = SeqIO.read(handle, format = \"genbank\")\n",
    "        records.append(my_seq)\n",
    "    N = SeqIO.write(records, filename, \"fasta\")\n",
    "    print(\"Search term was: \", search_term)\n",
    "    print(\"{} sequences written to {}\".format(N,filename))\n",
    "    \n",
    "s_term = \"starch AND Malus Domestica [Organism]\"\n",
    "retrieve_sequences(s_term, 5, \"file_samples/starch_sequences.fasta\")\n"
   ]
  },
  {
   "cell_type": "markdown",
   "metadata": {},
   "source": [
    "</div>"
   ]
  },
  {
   "cell_type": "markdown",
   "metadata": {},
   "source": [
    "4. Write a python function that aligns the sequences  in the file created in exercise 3. ([here](file_samples/starch_sequences.fasta) you can find mine) against the NCBI nr database limiting the hits to the Malus Domestica organism (parameter entrez_query='\"Malus Domestica\" [Organism]' in qblast)and prints to screen the following info for each hsp: \n",
    "    1. The title;\n",
    "    2. Score and e-value;\n",
    "    3. The number of alignments on the same subject, the number of identities and positives and the alignment length;\n",
    "    4. The number of mismatches and the list of their positions (hint: you can use the match string and look for \" \").\n",
    "   \n",
    "\n",
    "    \n",
    "<div class=\"tggle\" onclick=\"toggleVisibility('ex2');\">Show/Hide Solution</div>\n",
    "<div id=\"ex2\" style=\"display:none;\">"
   ]
  },
  {
   "cell_type": "code",
   "execution_count": null,
   "metadata": {},
   "outputs": [],
   "source": [
    "from Bio.Blast import NCBIWWW\n",
    "from Bio.Blast import NCBIXML\n",
    "\n",
    "fasta_string = open(\"file_samples/starch_sequences.fasta\").read()\n",
    "\n",
    "res_handle = NCBIWWW.qblast(\"blastn\", \"nt\", fasta_string, \n",
    "                            entrez_query='\"Malus Domestica\" [Organism]'\n",
    "                           )\n",
    "\n",
    "for align in NCBIXML.parse(res_handle):\n",
    "    \n",
    "    for a in align.alignments:\n",
    "            print(\"Align Title:{}\".format(a.title))\n",
    "            \n",
    "            for h in a.hsps:\n",
    "                s = h.score\n",
    "                e = h.expect\n",
    "                n = h.num_alignments\n",
    "                i = h.identities\n",
    "                p = h.positives\n",
    "                m = h.match \n",
    "                al = h.align_length\n",
    "                misM = [str(x) for x in range(len(m)) if m[x] == \" \"]\n",
    "                print(\"Score: {} E-val: {}\".format(s,e))\n",
    "                print(\"N.aligns:{} Ident:{} Pos.:{} Align len:{}\".format(\n",
    "                    n,i,p,al))\n",
    "                if(len(misM)):\n",
    "                    print(\"Num mismatches:\",len(misM))\n",
    "                    print(\"Mismatch pos:\", \",\".join(misM))\n",
    "                else:\n",
    "                    print(\"No mismatches\")\n",
    "                print(\"\")\n",
    "            \n",
    "\n",
    "res_handle.close()\n",
    "\n"
   ]
  },
  {
   "cell_type": "markdown",
   "metadata": {},
   "source": [
    "</div>"
   ]
  },
  {
   "cell_type": "markdown",
   "metadata": {},
   "source": [
    "5. Write a python function ```getPublicationInfo(title_term,other_term)``` that retrieves the first 20 pubmed publications having the ```title_term``` in the title and ```other_term``` somewhere else in the text (hint use: \"Title\" and \"[Other Term]\" as esearch parameter term). For each publication print: \n",
    "    1. the title\n",
    "    2. authors \n",
    "    3. journal \n",
    "    4. year of publication (hint: get and split properly the \"PubDate\" entry)\n",
    "    5. a link to the pubmed entry (hint: it is the string \"https://www.ncbi.nlm.nih.gov/pubmed/\" followed by the pubmed id (\"eid\" entry of the dictionary \"ArticleIds\"). es: https://www.ncbi.nlm.nih.gov/pubmed/26919684\n",
    "\n",
    "Hint: to see how to combine search terms test them here: [https://www.ncbi.nlm.nih.gov/pubmed/advanced](https://www.ncbi.nlm.nih.gov/pubmed/advanced).\n",
    "\n",
    "Test your code calling ```getPublicationInfo(\"apple\",\"drought\")```\n",
    "\n",
    "<div class=\"tggle\" onclick=\"toggleVisibility('ex3');\">Show/Hide Solution</div>\n",
    "<div id=\"ex3\" style=\"display:none;\">"
   ]
  },
  {
   "cell_type": "code",
   "execution_count": null,
   "metadata": {},
   "outputs": [],
   "source": [
    "\n",
    "from Bio import Entrez\n",
    "\n",
    "def getPublicationInfo(title_term,other_term): \n",
    "    Entrez.email = \"my_email\"\n",
    "    s_term = title_term + \" [Title] AND \" + other_term + \" [Other Term]\"\n",
    "    handle = Entrez.esearch(db=\"pubmed\", term=s_term)\n",
    "    res = Entrez.read(handle)\n",
    "#uncomment to see all info\n",
    "#    for el in res.keys():\n",
    "#        print(el , \" : \", res[el])\n",
    "#\n",
    "#    print(\"\")\n",
    "    for ids in res[\"IdList\"]:    \n",
    "        handle = Entrez.esummary(db=\"pubmed\",  id = ids)\n",
    "        res = Entrez.read(handle)\n",
    "        #uncomment to see all info\n",
    "        #print(res)\n",
    "        for r in res:\n",
    "            print(r[\"Title\"])\n",
    "            print(\",\".join(r[\"AuthorList\"]))\n",
    "            print(r[\"Source\"])\n",
    "            print(r[\"PubDate\"].split()[0])\n",
    "            print(\"https://www.ncbi.nlm.nih.gov/pubmed/\" + r[\"ArticleIds\"][\"eid\"])\n",
    "            print(\"\")\n",
    "            \n",
    "getPublicationInfo(\"apple\",\"drought\")"
   ]
  },
  {
   "cell_type": "markdown",
   "metadata": {},
   "source": [
    "</div>"
   ]
  },
  {
   "cell_type": "markdown",
   "metadata": {},
   "source": [
    "6. Write some python code to retrieve the structure of two forms of the aspartate transcarbamoylase (PDB ids: 4FYW and 1D09). If you are interested, read more about the Aspartate Transcarbamoylase [here](http://pdb101.rcsb.org/motm/215). Write a function that gets the .cif file name and prints:\n",
    "\n",
    "    1. the number of chains, residues and atoms present in the file;\n",
    "    2. a histogram of the residues (plotting it with matplotlib) that are not water (encoded as \"HOH\");\n",
    "    3. a link to an online tool to visualize the 3D structure. The link will be \"http://www.rcsb.org/pdb/ngl/ngl.do?pdbid=\" followed by the PDB id of the protein (e.g. 1d09).\n",
    "\n",
    "<div class=\"tggle\" onclick=\"toggleVisibility('ex4');\">Show/Hide Solution</div>\n",
    "<div id=\"ex4\" style=\"display:none;\">"
   ]
  },
  {
   "cell_type": "code",
   "execution_count": null,
   "metadata": {},
   "outputs": [],
   "source": [
    "from Bio.PDB import *\n",
    "import matplotlib.pyplot as plt\n",
    "\n",
    "def printCifInfo(filename):\n",
    "    \n",
    "    parser = MMCIFParser(QUIET=True) #To disable warnings\n",
    "    id = filename.split(\"/\")[1].split(\".\")[0]\n",
    "\n",
    "    structure = parser.get_structure(id, filename)\n",
    "    chains = structure.get_chains()\n",
    "    residues = structure.get_residues()\n",
    "    \n",
    "    atoms = structure.get_atoms()\n",
    "    res_histo = {}\n",
    "    resCnt = 0 #need this because while reading the residues \n",
    "               #I am pulling stuff out of the iterator\n",
    "    for res in residues:\n",
    "        rname = res.get_resname()\n",
    "        if(rname != \"HOH\"):\n",
    "            if( rname not in res_histo):\n",
    "                res_histo[rname] = 1\n",
    "            else:\n",
    "                res_histo[rname] += 1\n",
    "        resCnt += 1    \n",
    "    plt.figure(figsize=(15,5))\n",
    "    plt.bar(res_histo.keys(), res_histo.values())\n",
    "    plt.show()\n",
    "    print(\"Number of chains: {}\".format(len(list(chains))))\n",
    "    print(\"Number of residues: {}\".format(resCnt))\n",
    "    print(\"Number of atoms: {}\".format(len(list(atoms))))\n",
    "    print(\"http://www.rcsb.org/pdb/ngl/ngl.do?pdbid=\" + id) \n",
    "\n",
    "pdbl = PDBList()\n",
    "structures = [\"1D09\", \"4FYW\"]\n",
    "el = pdbl.download_pdb_files(structures, file_format = \"mmCif\", pdir = \"file_samples/\")\n",
    "\n",
    "printCifInfo(\"file_samples/1d09.cif\")\n",
    "printCifInfo(\"file_samples/4fyw.cif\")"
   ]
  },
  {
   "cell_type": "code",
   "execution_count": null,
   "metadata": {},
   "outputs": [],
   "source": [
    "</div>"
   ]
  }
 ],
 "metadata": {
  "celltoolbar": "Edit Metadata",
  "kernelspec": {
   "display_name": "Python 3",
   "language": "python",
   "name": "python3"
  },
  "language_info": {
   "codemirror_mode": {
    "name": "ipython",
    "version": 3
   },
   "file_extension": ".py",
   "mimetype": "text/x-python",
   "name": "python",
   "nbconvert_exporter": "python",
   "pygments_lexer": "ipython3",
   "version": "3.5.2"
  }
 },
 "nbformat": 4,
 "nbformat_minor": 2
}
